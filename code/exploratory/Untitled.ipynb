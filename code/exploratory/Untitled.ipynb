{
 "cells": [
  {
   "cell_type": "markdown",
   "id": "d55b8619-3ec3-4129-a893-b85dcf3e6308",
   "metadata": {},
   "source": [
    "# Exploring constructs"
   ]
  },
  {
   "cell_type": "code",
   "execution_count": 7,
   "id": "49d64f34-124a-4194-9ea4-04feec9615ae",
   "metadata": {},
   "outputs": [],
   "source": [
    "import efflux\n",
    "import pandas as pd\n",
    "import numpy as np\n",
    "import Bio\n",
    "from Bio.Restriction import *\n",
    "from Bio.Seq import Seq"
   ]
  },
  {
   "cell_type": "code",
   "execution_count": 8,
   "id": "51ee67eb-fb14-4977-8f9c-02564ec7077c",
   "metadata": {},
   "outputs": [
    {
     "data": {
      "text/html": [
       "<div>\n",
       "<style scoped>\n",
       "    .dataframe tbody tr th:only-of-type {\n",
       "        vertical-align: middle;\n",
       "    }\n",
       "\n",
       "    .dataframe tbody tr th {\n",
       "        vertical-align: top;\n",
       "    }\n",
       "\n",
       "    .dataframe thead th {\n",
       "        text-align: right;\n",
       "    }\n",
       "</style>\n",
       "<table border=\"1\" class=\"dataframe\">\n",
       "  <thead>\n",
       "    <tr style=\"text-align: right;\">\n",
       "      <th></th>\n",
       "      <th>name</th>\n",
       "      <th>sequence</th>\n",
       "    </tr>\n",
       "  </thead>\n",
       "  <tbody>\n",
       "    <tr>\n",
       "      <th>0</th>\n",
       "      <td>acrA_0</td>\n",
       "      <td>CCATTGATAGATTCGCTCGCTCGAGGATGTGTTGGCGCGTTTCTTG...</td>\n",
       "    </tr>\n",
       "    <tr>\n",
       "      <th>1</th>\n",
       "      <td>acrA_1</td>\n",
       "      <td>CCATTGATAGATTCGCTCGCTCGAGGATGTAATTGCTCGTTTCTTG...</td>\n",
       "    </tr>\n",
       "    <tr>\n",
       "      <th>2</th>\n",
       "      <td>acrA_2</td>\n",
       "      <td>CCATTGATAGATTCGCTCGCTCGAGGATGTAGAGGCGCGTTTCTTG...</td>\n",
       "    </tr>\n",
       "    <tr>\n",
       "      <th>3</th>\n",
       "      <td>acrA_3</td>\n",
       "      <td>CCATTGATAGATTCGCTCGCTCGAGGATGTAGAGGCGTGTTTCTTG...</td>\n",
       "    </tr>\n",
       "    <tr>\n",
       "      <th>4</th>\n",
       "      <td>acrA_4</td>\n",
       "      <td>CCATTGATAGATTCGCTCGCTCGAGGATGTAGTAGCGCGTTTCTTG...</td>\n",
       "    </tr>\n",
       "  </tbody>\n",
       "</table>\n",
       "</div>"
      ],
      "text/plain": [
       "     name                                           sequence\n",
       "0  acrA_0  CCATTGATAGATTCGCTCGCTCGAGGATGTGTTGGCGCGTTTCTTG...\n",
       "1  acrA_1  CCATTGATAGATTCGCTCGCTCGAGGATGTAATTGCTCGTTTCTTG...\n",
       "2  acrA_2  CCATTGATAGATTCGCTCGCTCGAGGATGTAGAGGCGCGTTTCTTG...\n",
       "3  acrA_3  CCATTGATAGATTCGCTCGCTCGAGGATGTAGAGGCGTGTTTCTTG...\n",
       "4  acrA_4  CCATTGATAGATTCGCTCGCTCGAGGATGTAGTAGCGCGTTTCTTG..."
      ]
     },
     "execution_count": 8,
     "metadata": {},
     "output_type": "execute_result"
    }
   ],
   "source": [
    "df = pd.read_csv(\"../../data/efflux_pumps_twist.csv\")\n",
    "df.head()"
   ]
  },
  {
   "cell_type": "code",
   "execution_count": 11,
   "id": "b4fccf82-b77d-4a6f-bf6f-9f84cd3f8560",
   "metadata": {},
   "outputs": [
    {
     "data": {
      "text/plain": [
       "array(['acrA', 'acrB', 'acrD', 'acrE', 'acrZ', 'cusC', 'cusR', 'envR14',\n",
       "       'gadE', 'gadE1', 'gadE3', 'gadE4', 'gadW1', 'gadW2', 'gadX',\n",
       "       'gadY', 'mdtA', 'mdtE2', 'neg', 'tolC3'], dtype='<U6')"
      ]
     },
     "execution_count": 11,
     "metadata": {},
     "output_type": "execute_result"
    }
   ],
   "source": [
    "np.unique([x.split('_')[0] for x in df.name])"
   ]
  },
  {
   "cell_type": "code",
   "execution_count": 51,
   "id": "36e40d66-11ba-46a3-8c1e-fbb8c0fd97c5",
   "metadata": {},
   "outputs": [],
   "source": [
    "count_salI = 0\n",
    "names_salI = []\n",
    "\n",
    "count_sbfI = 0\n",
    "names_sbfI = []\n",
    "\n",
    "for name, seq in zip(df.name, df.sequence):\n",
    "    if len(SalI.search(Seq(seq))) > 0:\n",
    "        names.append(name)\n",
    "        count_salI += 1\n",
    "    if len(SbfI.search(Seq(seq))) > 0:\n",
    "        names.append(name)\n",
    "        count_sbfI += 1\n",
    "    if len(XhoI.search(Seq(seq))) > 0:\n",
    "        names.append(name)\n",
    "        count += 1"
   ]
  },
  {
   "cell_type": "code",
   "execution_count": 52,
   "id": "1279ec36-de0f-4bfa-860c-c99dfcb34298",
   "metadata": {},
   "outputs": [
    {
     "name": "stdout",
     "output_type": "stream",
     "text": [
      "SalI sites: 206\n",
      "SbfI sites: 6\n"
     ]
    }
   ],
   "source": [
    "print(\"SalI sites: {}\".format(count_salI))\n",
    "print(\"SbfI sites: {}\".format(count_sbfI))"
   ]
  },
  {
   "cell_type": "code",
   "execution_count": null,
   "id": "f75d8df7-114b-4e2d-a6af-1958fbc7483a",
   "metadata": {},
   "outputs": [],
   "source": []
  }
 ],
 "metadata": {
  "kernelspec": {
   "display_name": "Python 3",
   "language": "python",
   "name": "python3"
  },
  "language_info": {
   "codemirror_mode": {
    "name": "ipython",
    "version": 3
   },
   "file_extension": ".py",
   "mimetype": "text/x-python",
   "name": "python",
   "nbconvert_exporter": "python",
   "pygments_lexer": "ipython3",
   "version": "3.8.11"
  }
 },
 "nbformat": 4,
 "nbformat_minor": 5
}
